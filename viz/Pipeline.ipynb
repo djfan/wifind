{
 "cells": [
  {
   "cell_type": "code",
   "execution_count": 23,
   "metadata": {
    "collapsed": false,
    "deletable": true,
    "editable": true
   },
   "outputs": [
    {
     "name": "stdout",
     "output_type": "stream",
     "text": [
      "Populating the interactive namespace from numpy and matplotlib\n"
     ]
    }
   ],
   "source": [
    "import pandas as pd\n",
    "from shapely.geometry import Point\n",
    "import datetime as dt\n",
    "import geopandas as gpd\n",
    "from fiona.crs import from_epsg\n",
    "import pyproj\n",
    "import pylab as pl\n",
    "import mplleaflet\n",
    "import folium\n",
    "import shapefile as shp\n",
    "import math\n",
    "import os\n",
    "import urllib\n",
    "import urllib2\n",
    "import requests\n",
    "import json\n",
    "%pylab inline"
   ]
  },
  {
   "cell_type": "code",
   "execution_count": 71,
   "metadata": {
    "collapsed": false,
    "deletable": true,
    "editable": true
   },
   "outputs": [
    {
     "data": {
      "text/plain": [
       "'http://wifindproject.com/wifipulling/?columns=lat%7Clng%7Cssid%7Cbssid%7Ctime&startdate=06/29/2017&batch=500&timeformat=1'"
      ]
     },
     "execution_count": 71,
     "metadata": {},
     "output_type": "execute_result"
    }
   ],
   "source": [
    "starttime = '06/29/2017'\n",
    "batch = '500' # how many records you want to fetch \n",
    "url = 'http://wifindproject.com/wifipulling/?columns=lat%7Clng%7Cssid%7Cbssid%7Ctime&startdate='+\\\n",
    "        starttime+'&batch='+batch+'&timeformat=1'\n",
    "resp = requests.get(url)\n",
    "print url"
   ]
  },
  {
   "cell_type": "code",
   "execution_count": 74,
   "metadata": {
    "collapsed": true,
    "deletable": true,
    "editable": true
   },
   "outputs": [],
   "source": [
    "#file_name = \"motoG4_062212.csv\"\n",
    "cell_length = 50 # usft\n",
    "delete_empty_cell = True\n",
    "\n",
    "# All or Only Free\n",
    "only_free_wifi = False\n",
    "\n",
    "# free wifi list\n",
    "free_wifi = ['#flatiron free wifi', 'freewifibysurface',\n",
    "             'bryantpark.org', 'DowntownBrooklynWiFi_Fon',\n",
    "             'linknyc free wi-fi', 'Metrotech',\n",
    "             'usp park wifi', 'Red Hook Wifi']"
   ]
  },
  {
   "cell_type": "code",
   "execution_count": 75,
   "metadata": {
    "collapsed": false,
    "deletable": true,
    "editable": true
   },
   "outputs": [],
   "source": [
    "# Read File\n",
    "#df = pd.read_csv(file_name)\n",
    "df = pd.read_json(resp.text)\n",
    "# for Free WiFi\n",
    "s1 = set(df.ssid); s2 = set(free_wifi); free_wifi_intersection = list(s1.intersection(s2))\n",
    "if only_free_wifi:\n",
    "    df = df[df['ssid'].isin(free_wifi_intersection)]\n",
    "    #df = df[df['ssid'] == 'linknyc free wi-fi']"
   ]
  },
  {
   "cell_type": "code",
   "execution_count": 76,
   "metadata": {
    "collapsed": false,
    "deletable": true,
    "editable": true
   },
   "outputs": [],
   "source": [
    "# convert Unix timestamp into readable timestamp\n",
    "#df['time2'] = map(lambda x: dt.datetime.fromtimestamp(x), df.time.astype(float)/1000)\n",
    "df['time2'] = pd.to_datetime(df.time)\n",
    "df['month'] = map(lambda x: x.month, df['time2'])\n",
    "df['day'] = map(lambda x: x.day, df['time2'])\n",
    "df['hour'] = map(lambda x: x.hour, df['time2'])\n",
    "df['minute'] = map(lambda x: x.minute, df['time2'])\n",
    "df['sec'] = map(lambda x: x.second, df['time2'])\n",
    "\n",
    "# Filter data according to datetime -> ! INPUT DATETIME MANUALLY\n",
    "df2 = df.copy() # depends on your input data\n",
    "if file_name == \"dj.csv\":\n",
    "    df2 = df2[((df2['month'] == 6) & (df2['day'] == 14)) | ((df2['month'] == 6) & (df2['day'] == 22) & (df2['hour'] <10)) | ((df2['month'] == 6) & (df2['day'] == 29))]\n",
    "\n",
    "# geo\n",
    "df2.reset_index(drop=True, inplace=True)\n",
    "df2['geo'] = zip(df2.lng, df2.lat)\n",
    "df2['geometry'] = map(lambda x: Point(x), zip(df2.lng, df2.lat))\n",
    "\n",
    "# groupby geo, unique bssid\n",
    "access_count = df2.groupby(df2.geo).apply(lambda x: len(x.bssid.unique()))\n",
    "access_bssidList = df2.groupby(df2.geo).apply(lambda x: list(x.bssid.unique()))\n",
    "df3 = pd.DataFrame(map(lambda x: Point(x), access_count.index), columns=['geometry'])\n",
    "df3['unique_bssid_count'] = access_count.values\n",
    "df3['unique_bssid_list'] = access_bssidList.values\n",
    "\n",
    "# crs\n",
    "df3= gpd.GeoDataFrame(df3)\n",
    "df3.crs = from_epsg(4326)\n",
    "df3.to_crs(epsg=2263, inplace=True)\n",
    "df3.to_pickle('unique_bssid.p')\n",
    "\n",
    "# grid boundry\n",
    "all_x = map(lambda p: p.x, df3.geometry)\n",
    "all_y = map(lambda p: p.y, df3.geometry)\n",
    "minx, maxx, miny, maxy = min(all_x), max(all_x), min(all_y), max(all_y) \n",
    "\n",
    "# grid length\n",
    "dx = cell_length\n",
    "dy = cell_length\n",
    "nx = int(math.ceil(abs(maxx - minx)/dx))\n",
    "ny = int(math.ceil(abs(maxy - miny)/dy))\n",
    "\n",
    "# grid plotting\n",
    "w = shp.Writer(shp.POLYGON)\n",
    "w.autoBalance = 1\n",
    "w.field(\"ID\")\n",
    "id=0\n",
    "for i in range(ny):\n",
    "    for j in range(nx):\n",
    "        id+=1\n",
    "        vertices = []\n",
    "        parts = []\n",
    "        vertices.append([min(minx+dx*j,maxx),max(maxy-dy*i,miny)])\n",
    "        vertices.append([min(minx+dx*(j+1),maxx),max(maxy-dy*i,miny)])\n",
    "        vertices.append([min(minx+dx*(j+1),maxx),max(maxy-dy*(i+1),miny)])\n",
    "        vertices.append([min(minx+dx*j,maxx),max(maxy-dy*(i+1),miny)])\n",
    "        parts.append(vertices)\n",
    "        w.poly(parts)\n",
    "        w.record(id)\n",
    "w.save('polygon_grid')\n",
    "\n",
    "# read data: TBD\n",
    "grid = gpd.read_file('./polygon_grid.shp')\n",
    "grid.crs = from_epsg(2263)\n",
    "uni_bssid = pd.read_pickle(\"./unique_bssid.p\")\n",
    "uni_bssid = gpd.GeoDataFrame(uni_bssid)\n",
    "uni_bssid.crs = from_epsg(2263)\n",
    "\n",
    "# geo points in which cell?\n",
    "PointInPoly = gpd.sjoin(uni_bssid, grid, how='left', op='intersects')\n",
    "PointInPoly.dropna(subset=['ID'], inplace=True) # ? why a few points don't intersect with any cell?\n",
    "\n",
    "# groupby cell.ID to get list of bssid (with duplications) for each cell, then calculate length of unique bssid \"uni\"\n",
    "grouped = PointInPoly.groupby('ID').apply(lambda x: reduce(lambda x,y: x+y, x.unique_bssid_list))\n",
    "bssidInPoly = pd.DataFrame(grouped, columns=['all_bssid_list'])\n",
    "bssidInPoly['unique_bssid_list'] = map(lambda x: set(x), grouped)\n",
    "bssidInPoly['cum'] = map(lambda x: len(x), grouped)\n",
    "bssidInPoly['uni'] = map(lambda x: len(set(x)), grouped)\n",
    "bssidInPoly['ID'] = bssidInPoly.index\n",
    "bssidInPoly.reset_index(drop=True, inplace=True)\n",
    "\n",
    "# merge grid and bssidInPoly\n",
    "grid_bssid = pd.merge(grid, bssidInPoly, how='left', on='ID')\n",
    "grid_bssid.to_crs(epsg=2263, inplace=True)\n",
    "if not delete_empty_cell: \n",
    "    grid_bssid.uni.fillna(inplace=True, value=0)\n",
    "    \n",
    "# Data for Plot\n",
    "grid_plot = grid_bssid.loc[:, ['ID', 'uni', 'geometry']]\n",
    "grid_plot.dropna(subset=['uni'], inplace=True) \n",
    "grid_plot.to_file(file_name.split(\".\")[0])"
   ]
  },
  {
   "cell_type": "code",
   "execution_count": 78,
   "metadata": {
    "collapsed": false,
    "deletable": true,
    "editable": true
   },
   "outputs": [],
   "source": [
    "# grid_plot"
   ]
  },
  {
   "cell_type": "markdown",
   "metadata": {
    "deletable": true,
    "editable": true
   },
   "source": [
    "### To be continued"
   ]
  }
 ],
 "metadata": {
  "kernelspec": {
   "display_name": "Python 2",
   "language": "python",
   "name": "python2"
  },
  "language_info": {
   "codemirror_mode": {
    "name": "ipython",
    "version": 2
   },
   "file_extension": ".py",
   "mimetype": "text/x-python",
   "name": "python",
   "nbconvert_exporter": "python",
   "pygments_lexer": "ipython2",
   "version": "2.7.13"
  }
 },
 "nbformat": 4,
 "nbformat_minor": 2
}

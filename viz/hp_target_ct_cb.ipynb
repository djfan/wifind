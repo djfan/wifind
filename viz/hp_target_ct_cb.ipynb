{
 "cells": [
  {
   "cell_type": "markdown",
   "metadata": {},
   "source": [
    "https://www1.nyc.gov/site/planning/data-maps/open-data/districts-download-metadata.page"
   ]
  },
  {
   "cell_type": "code",
   "execution_count": 2,
   "metadata": {
    "collapsed": false
   },
   "outputs": [
    {
     "name": "stdout",
     "output_type": "stream",
     "text": [
      "Populating the interactive namespace from numpy and matplotlib\n"
     ]
    }
   ],
   "source": [
    "import shapefile as shp\n",
    "import math\n",
    "import pandas as pd\n",
    "import geopandas as gpd\n",
    "import pylab as pl\n",
    "from fiona.crs import from_epsg\n",
    "\n",
    "%pylab inline"
   ]
  },
  {
   "cell_type": "code",
   "execution_count": 10,
   "metadata": {
    "collapsed": true
   },
   "outputs": [],
   "source": [
    "hp_target = gpd.read_file(\"./hp_target/hp_target.shp\")\n",
    "hp_target.to_crs(epsg=2263, inplace=True)"
   ]
  },
  {
   "cell_type": "code",
   "execution_count": 5,
   "metadata": {
    "collapsed": true
   },
   "outputs": [],
   "source": [
    "ct = gpd.read_file(\"./nyct2010_17b/nyct2010.shp\")\n",
    "cb = gpd.read_file(\"./nycb2010_17b/nycb2010.shp\")"
   ]
  },
  {
   "cell_type": "markdown",
   "metadata": {},
   "source": [
    "https://www1.nyc.gov/assets/planning/download/pdf/data-maps/open-data/nyct2010_metadata.pdf?ver=17b"
   ]
  },
  {
   "cell_type": "markdown",
   "metadata": {},
   "source": [
    "https://www1.nyc.gov/assets/planning/download/pdf/data-maps/open-data/nycb2010_metadata.pdf?ver=17b"
   ]
  },
  {
   "cell_type": "code",
   "execution_count": 9,
   "metadata": {
    "collapsed": false
   },
   "outputs": [],
   "source": [
    "ct.to_crs(epsg=2263, inplace=True)\n",
    "cb.to_crs(epsg=2263, inplace=True)"
   ]
  },
  {
   "cell_type": "code",
   "execution_count": 18,
   "metadata": {
    "collapsed": false
   },
   "outputs": [
    {
     "data": {
      "text/plain": [
       "(38794,)"
      ]
     },
     "execution_count": 18,
     "metadata": {},
     "output_type": "execute_result"
    }
   ],
   "source": [
    "ct.BoroCT2010.unique().shape\n",
    "cb.BCTCB2010.unique().shape"
   ]
  },
  {
   "cell_type": "markdown",
   "metadata": {},
   "source": [
    "## CT merge"
   ]
  },
  {
   "cell_type": "markdown",
   "metadata": {},
   "source": [
    "#### intersect & within"
   ]
  },
  {
   "cell_type": "code",
   "execution_count": 39,
   "metadata": {
    "collapsed": false
   },
   "outputs": [],
   "source": [
    "hp_intersect_ct = gpd.sjoin(hp_target, ct, how='left', op='intersects')\n",
    "hp_within_ct = gpd.sjoin(hp_target, ct, how='left', op='within')\n",
    "ct_within_hp = gpd.sjoin(ct, hp_target, how='inner', op='within')"
   ]
  },
  {
   "cell_type": "code",
   "execution_count": 28,
   "metadata": {
    "collapsed": false
   },
   "outputs": [
    {
     "data": {
      "text/plain": [
       "developmen         \n",
       "CHELSEA           0    1009300\n",
       "CHELSEA ADDITION  1    1009700\n",
       "ELLIOTT           2    1009700\n",
       "                  2    1009300\n",
       "FULTON            3    1008900\n",
       "                  3    1008300\n",
       "Name: BoroCT2010, dtype: object"
      ]
     },
     "execution_count": 28,
     "metadata": {},
     "output_type": "execute_result"
    }
   ],
   "source": [
    "hp_intersect_ct.groupby('developmen').apply(lambda x: x.BoroCT2010)"
   ]
  },
  {
   "cell_type": "code",
   "execution_count": 35,
   "metadata": {
    "collapsed": false
   },
   "outputs": [
    {
     "data": {
      "text/plain": [
       "developmen         \n",
       "CHELSEA           0    1009300\n",
       "CHELSEA ADDITION  1    1009700\n",
       "ELLIOTT           2        NaN\n",
       "FULTON            3        NaN\n",
       "Name: BoroCT2010, dtype: object"
      ]
     },
     "execution_count": 35,
     "metadata": {},
     "output_type": "execute_result"
    }
   ],
   "source": [
    "hp_within_ct.groupby('developmen').apply(lambda x: x.BoroCT2010)"
   ]
  },
  {
   "cell_type": "code",
   "execution_count": 41,
   "metadata": {
    "collapsed": false
   },
   "outputs": [
    {
     "data": {
      "text/plain": [
       "(0, 15)"
      ]
     },
     "execution_count": 41,
     "metadata": {},
     "output_type": "execute_result"
    }
   ],
   "source": [
    "ct_within_hp.shape"
   ]
  },
  {
   "cell_type": "markdown",
   "metadata": {},
   "source": [
    "### CB merge"
   ]
  },
  {
   "cell_type": "code",
   "execution_count": 44,
   "metadata": {
    "collapsed": true
   },
   "outputs": [],
   "source": [
    "hp_intersect_cb = gpd.sjoin(hp_target, cb, how='left', op='intersects')\n",
    "hp_within_cb = gpd.sjoin(hp_target, cb, how='left', op='within')\n",
    "cb_within_hp = gpd.sjoin(cb, hp_target, how='inner', op='within')"
   ]
  },
  {
   "cell_type": "code",
   "execution_count": 37,
   "metadata": {
    "collapsed": false
   },
   "outputs": [
    {
     "data": {
      "text/plain": [
       "developmen         \n",
       "CHELSEA           0    10093006000\n",
       "                  0    10093006001\n",
       "                  0    10093006002\n",
       "CHELSEA ADDITION  1    10097002002\n",
       "ELLIOTT           2    10093006001\n",
       "                  2    10097002002\n",
       "                  2    10093006002\n",
       "FULTON            3    10083003000\n",
       "                  3    10089003001\n",
       "                  3    10089003000\n",
       "                  3    10083003001\n",
       "Name: BCTCB2010, dtype: object"
      ]
     },
     "execution_count": 37,
     "metadata": {},
     "output_type": "execute_result"
    }
   ],
   "source": [
    "hp_intersect_cb.groupby('developmen').apply(lambda x: x.BCTCB2010)"
   ]
  },
  {
   "cell_type": "code",
   "execution_count": 38,
   "metadata": {
    "collapsed": false
   },
   "outputs": [
    {
     "data": {
      "text/plain": [
       "developmen         \n",
       "CHELSEA           0            NaN\n",
       "CHELSEA ADDITION  1    10097002002\n",
       "ELLIOTT           2            NaN\n",
       "FULTON            3            NaN\n",
       "Name: BCTCB2010, dtype: object"
      ]
     },
     "execution_count": 38,
     "metadata": {},
     "output_type": "execute_result"
    }
   ],
   "source": [
    "hp_within_cb.groupby('developmen').apply(lambda x: x.BCTCB2010)"
   ]
  },
  {
   "cell_type": "code",
   "execution_count": 45,
   "metadata": {
    "collapsed": false
   },
   "outputs": [
    {
     "data": {
      "text/plain": [
       "(0, 11)"
      ]
     },
     "execution_count": 45,
     "metadata": {},
     "output_type": "execute_result"
    }
   ],
   "source": [
    "cb_within_hp.shape"
   ]
  },
  {
   "cell_type": "markdown",
   "metadata": {},
   "source": [
    "<br/>\n",
    "<br/>\n",
    "### Select op = 'intersects'"
   ]
  },
  {
   "cell_type": "code",
   "execution_count": 49,
   "metadata": {
    "collapsed": false
   },
   "outputs": [],
   "source": [
    "hp_ct = hp_intersect_ct.groupby('developmen').apply(lambda x: x.BoroCT2010.values)\n",
    "hp_cb = hp_intersect_cb.groupby('developmen').apply(lambda x: x.BCTCB2010.values)"
   ]
  },
  {
   "cell_type": "code",
   "execution_count": 55,
   "metadata": {
    "collapsed": false
   },
   "outputs": [],
   "source": [
    "hp_target['CT'] = hp_ct.values\n",
    "hp_target['CB'] = hp_cb.values"
   ]
  },
  {
   "cell_type": "code",
   "execution_count": 56,
   "metadata": {
    "collapsed": false
   },
   "outputs": [
    {
     "data": {
      "text/html": [
       "<div>\n",
       "<style>\n",
       "    .dataframe thead tr:only-child th {\n",
       "        text-align: right;\n",
       "    }\n",
       "\n",
       "    .dataframe thead th {\n",
       "        text-align: left;\n",
       "    }\n",
       "\n",
       "    .dataframe tbody tr th {\n",
       "        vertical-align: top;\n",
       "    }\n",
       "</style>\n",
       "<table border=\"1\" class=\"dataframe\">\n",
       "  <thead>\n",
       "    <tr style=\"text-align: right;\">\n",
       "      <th></th>\n",
       "      <th>borough</th>\n",
       "      <th>developmen</th>\n",
       "      <th>geometry</th>\n",
       "      <th>CT</th>\n",
       "      <th>CB</th>\n",
       "    </tr>\n",
       "  </thead>\n",
       "  <tbody>\n",
       "    <tr>\n",
       "      <th>0</th>\n",
       "      <td>MANHATTAN</td>\n",
       "      <td>CHELSEA</td>\n",
       "      <td>POLYGON ((983771.073124409 212170.9467828723, ...</td>\n",
       "      <td>[1009300]</td>\n",
       "      <td>[10093006000, 10093006001, 10093006002]</td>\n",
       "    </tr>\n",
       "    <tr>\n",
       "      <th>1</th>\n",
       "      <td>MANHATTAN</td>\n",
       "      <td>CHELSEA ADDITION</td>\n",
       "      <td>POLYGON ((983739.0203669845 212272.0843758562,...</td>\n",
       "      <td>[1009700]</td>\n",
       "      <td>[10097002002]</td>\n",
       "    </tr>\n",
       "    <tr>\n",
       "      <th>2</th>\n",
       "      <td>MANHATTAN</td>\n",
       "      <td>ELLIOTT</td>\n",
       "      <td>(POLYGON ((983769.5173532362 212064.8298691196...</td>\n",
       "      <td>[1009700, 1009300]</td>\n",
       "      <td>[10093006001, 10097002002, 10093006002]</td>\n",
       "    </tr>\n",
       "    <tr>\n",
       "      <th>3</th>\n",
       "      <td>MANHATTAN</td>\n",
       "      <td>FULTON</td>\n",
       "      <td>(POLYGON ((982789.5691819044 210258.9745569509...</td>\n",
       "      <td>[1008900, 1008300]</td>\n",
       "      <td>[10083003000, 10089003001, 10089003000, 100830...</td>\n",
       "    </tr>\n",
       "  </tbody>\n",
       "</table>\n",
       "</div>"
      ],
      "text/plain": [
       "     borough        developmen  \\\n",
       "0  MANHATTAN           CHELSEA   \n",
       "1  MANHATTAN  CHELSEA ADDITION   \n",
       "2  MANHATTAN           ELLIOTT   \n",
       "3  MANHATTAN            FULTON   \n",
       "\n",
       "                                            geometry                  CT  \\\n",
       "0  POLYGON ((983771.073124409 212170.9467828723, ...           [1009300]   \n",
       "1  POLYGON ((983739.0203669845 212272.0843758562,...           [1009700]   \n",
       "2  (POLYGON ((983769.5173532362 212064.8298691196...  [1009700, 1009300]   \n",
       "3  (POLYGON ((982789.5691819044 210258.9745569509...  [1008900, 1008300]   \n",
       "\n",
       "                                                  CB  \n",
       "0            [10093006000, 10093006001, 10093006002]  \n",
       "1                                      [10097002002]  \n",
       "2            [10093006001, 10097002002, 10093006002]  \n",
       "3  [10083003000, 10089003001, 10089003000, 100830...  "
      ]
     },
     "execution_count": 56,
     "metadata": {},
     "output_type": "execute_result"
    }
   ],
   "source": [
    "hp_target"
   ]
  }
 ],
 "metadata": {
  "kernelspec": {
   "display_name": "Python 2",
   "language": "python",
   "name": "python2"
  },
  "language_info": {
   "codemirror_mode": {
    "name": "ipython",
    "version": 2
   },
   "file_extension": ".py",
   "mimetype": "text/x-python",
   "name": "python",
   "nbconvert_exporter": "python",
   "pygments_lexer": "ipython2",
   "version": "2.7.13"
  }
 },
 "nbformat": 4,
 "nbformat_minor": 2
}
